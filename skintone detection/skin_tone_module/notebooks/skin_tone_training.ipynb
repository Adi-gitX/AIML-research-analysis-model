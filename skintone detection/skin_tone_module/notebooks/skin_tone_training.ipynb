{
 "cells": [
  {
   "cell_type": "markdown",
   "id": "6d97d3d9",
   "metadata": {},
   "source": [
    "# Skin Tone Training Notebook\n",
    "This notebook demonstrates: 1) extracting skin patches using STONE, 2) preparing the dataset, and 3) training a simple CNN on the patches.\n",
    "Follow the README for setup and dependencies."
   ]
  },
  {
   "cell_type": "code",
   "execution_count": null,
   "id": "e1bcf7a9",
   "metadata": {},
   "outputs": [],
   "source": [
    "# Install dependencies (run in Colab or local env)\n",
    "# !pip install -r /content/drive/MyDrive/path/to/requirements.txt\n",
    "import os\n",
    "from src.stone_integration import extract_patches\n",
    "print('Notebook ready')"
   ]
  }
 ],
 "metadata": {
  "language_info": {
   "name": "python"
  }
 },
 "nbformat": 4,
 "nbformat_minor": 5
}
